{
 "cells": [
  {
   "cell_type": "markdown",
   "metadata": {},
   "source": [
    "# 128. Longest Consecutive Sequence\n",
    "\n",
    "\n",
    "https://leetcode.com/problems/longest-consecutive-sequence/\n",
    "\n",
    "Given an unsorted array of integers nums, return the length of the longest consecutive elements sequence.\n",
    "\n",
    " \n",
    "\n",
    "Example 1:\n",
    "\n",
    "Input: nums = [100,4,200,1,3,2]\n",
    "Output: 4\n",
    "Explanation: The longest consecutive elements sequence is [1, 2, 3, 4]. Therefore its length is 4.\n",
    "Example 2:\n",
    "\n",
    "Input: nums = [0,3,7,2,5,8,4,6,0,1]\n",
    "Output: 9\n",
    " \n",
    "\n",
    "Constraints:\n",
    "\n",
    "0 <= nums.length <= 10^4\n",
    "\n",
    "-10^9 <= nums[i] <= 10^9"
   ]
  },
  {
   "cell_type": "markdown",
   "metadata": {},
   "source": [
    "test"
   ]
  },
  {
   "cell_type": "code",
   "execution_count": 189,
   "metadata": {},
   "outputs": [],
   "source": [
    "nums = [0,3,7,2,5,-7,8,4,6,0,1]"
   ]
  },
  {
   "cell_type": "code",
   "execution_count": 190,
   "metadata": {},
   "outputs": [
    {
     "name": "stdout",
     "output_type": "stream",
     "text": [
      "0\n",
      "3\n",
      "7\n",
      "2\n",
      "5\n",
      "-7\n",
      "8\n",
      "4\n",
      "6\n",
      "0\n",
      "1\n"
     ]
    }
   ],
   "source": [
    "for x in nums:\n",
    " print(x)"
   ]
  },
  {
   "cell_type": "code",
   "execution_count": 106,
   "metadata": {},
   "outputs": [],
   "source": [
    "nums = [100,4,200,1,3,2]"
   ]
  },
  {
   "cell_type": "code",
   "execution_count": 183,
   "metadata": {},
   "outputs": [],
   "source": [
    "nums = [4,0,-4,-2,2,5,2,0,-8,-8,-8,-8,-1,7,4,5,5,-4,6,6,-3]"
   ]
  },
  {
   "cell_type": "code",
   "execution_count": 184,
   "metadata": {},
   "outputs": [],
   "source": [
    "#중복제거\n",
    "nums = list(set(nums))\n",
    "max_num=max(nums)\n",
    "min_num = min(nums)\n",
    "len_nums =len(nums)\n",
    "longist=1\n",
    "temp = 1"
   ]
  },
  {
   "cell_type": "code",
   "execution_count": null,
   "metadata": {},
   "outputs": [],
   "source": [
    "#중복제거 x\n",
    "max_num=max(nums)\n",
    "min_num = min(nums)\n",
    "len_nums =len(nums)\n",
    "longist=1\n",
    "temp = 1"
   ]
  },
  {
   "cell_type": "code",
   "execution_count": 185,
   "metadata": {},
   "outputs": [],
   "source": [
    "nums.sort()\n",
    "point_number = nums[0]"
   ]
  },
  {
   "cell_type": "code",
   "execution_count": 186,
   "metadata": {
    "scrolled": true
   },
   "outputs": [
    {
     "data": {
      "text/plain": [
       "[-8, -4, -3, -2, -1, 0, 2, 4, 5, 6, 7]"
      ]
     },
     "execution_count": 186,
     "metadata": {},
     "output_type": "execute_result"
    }
   ],
   "source": [
    "nums "
   ]
  },
  {
   "cell_type": "code",
   "execution_count": null,
   "metadata": {},
   "outputs": [],
   "source": [
    "#중복제거 x\n",
    "for x in range(1,len_nums):\n",
    "    print(\"x\",x)\n",
    "    if nums[x] == point_number+1:\n",
    "        temp += 1\n",
    "        print(\"증가링\",temp)\n",
    "        print(\"point\",point_number)\n",
    "        point_number = nums[x]\n",
    "        if x == len_nums-1:\n",
    "            if temp >= longist:\n",
    "                longist = temp\n",
    "    elif nums[x] == point_number:\n",
    "        point_number = nums[x]\n",
    "        if x == len_nums-1:\n",
    "            if temp >= longist:\n",
    "                longist = temp\n",
    "            \n",
    "    else:\n",
    "        if temp >= longist:\n",
    "            print(\"더크다\")\n",
    "            print(\"point\",point_number)\n",
    "            print(temp,longist)\n",
    "            longist = temp\n",
    "            point_number = nums[x]\n",
    "            temp =1\n",
    "        else:\n",
    "            print(\"안크다\")\n",
    "            print(\"point\",point_number)\n",
    "            print(temp,longist)\n",
    "            point_number = nums[x]\n",
    "            temp =1\n",
    "\n",
    "    "
   ]
  },
  {
   "cell_type": "code",
   "execution_count": 180,
   "metadata": {
    "scrolled": true
   },
   "outputs": [
    {
     "name": "stdout",
     "output_type": "stream",
     "text": [
      "x 1\n",
      "증가링 2\n",
      "point 0\n",
      "x 2\n",
      "증가링 3\n",
      "point 1\n"
     ]
    }
   ],
   "source": [
    "중복제거\n",
    "for x in range(1,len_nums):\n",
    "    print(\"x\",x)\n",
    "    if nums[x] == point_number+1:\n",
    "        temp += 1\n",
    "        print(\"증가링\",temp)\n",
    "        print(\"point\",point_number)\n",
    "        point_number = nums[x]\n",
    "        if x == len_nums-1:\n",
    "            if temp >= longist:\n",
    "                longist = temp\n",
    "    else:\n",
    "        if temp >= longist:\n",
    "            print(\"더크다\")\n",
    "            print(\"point\",point_number)\n",
    "            print(temp,longist)\n",
    "            longist = temp\n",
    "            point_number = nums[x]\n",
    "            temp =1\n",
    "        else:\n",
    "            print(\"안크다\")\n",
    "            print(\"point\",point_number)\n",
    "            print(temp,longist)\n",
    "            point_number = nums[x]\n",
    "            temp =1\n",
    "\n",
    "    "
   ]
  },
  {
   "cell_type": "markdown",
   "metadata": {},
   "source": [
    "## leetcode 제출 "
   ]
  },
  {
   "cell_type": "code",
   "execution_count": null,
   "metadata": {},
   "outputs": [],
   "source": [
    "class Solution:\n",
    "    def longestConsecutive(self, nums: List[int]) -> int:\n",
    "        if nums == []:\n",
    "            return 0\n",
    "        \n",
    "        max_num = max(nums)\n",
    "        min_num = min(nums)\n",
    "        len_nums =len(nums)\n",
    "        longist=1\n",
    "        temp = 1\n",
    "        nums.sort()\n",
    "        point_number = nums[0]\n",
    "        for x in range(1,len_nums):\n",
    "\n",
    "            if nums[x] == point_number+1:\n",
    "                temp += 1\n",
    "                point_number = nums[x]\n",
    "                if x == len_nums-1:\n",
    "                    if temp >= longist:\n",
    "                        longist = temp\n",
    "            elif nums[x] == point_number:\n",
    "                point_number = nums[x]\n",
    "                if x == len_nums-1:\n",
    "                    if temp >= longist:\n",
    "                        longist = temp\n",
    "            else:\n",
    "                if temp >= longist:\n",
    "\n",
    "                    longist = temp\n",
    "                    point_number = nums[x]\n",
    "                    temp =1\n",
    "                else:\n",
    "\n",
    "                    point_number = nums[x]\n",
    "                    temp =1\n",
    "\n",
    "        \n",
    "        return longist"
   ]
  },
  {
   "cell_type": "code",
   "execution_count": null,
   "metadata": {},
   "outputs": [],
   "source": [
    "class Solution:\n",
    "    def longestConsecutive(self, nums: List[int]) -> int:\n",
    "        if nums == []:\n",
    "            return 0\n",
    "        nums = list(set(nums))\n",
    "        max_num = max(nums)\n",
    "        min_num = min(nums)\n",
    "        len_nums =len(nums)\n",
    "        longist=1\n",
    "        temp = 1\n",
    "        nums.sort()\n",
    "        point_number = nums[0]\n",
    "        for x in range(1,len_nums):\n",
    "\n",
    "            if nums[x] == point_number+1:\n",
    "                temp += 1\n",
    "                point_number = nums[x]\n",
    "                if x == len_nums-1:\n",
    "                    if temp >= longist:\n",
    "                        longist = temp\n",
    "            else:\n",
    "                if temp >= longist:\n",
    "\n",
    "                    longist = temp\n",
    "                    point_number = nums[x]\n",
    "                    temp =1\n",
    "                else:\n",
    "\n",
    "                    point_number = nums[x]\n",
    "                    temp =1\n",
    "\n",
    "        \n",
    "        return longist\n"
   ]
  }
 ],
 "metadata": {
  "kernelspec": {
   "display_name": "Python 3",
   "language": "python",
   "name": "python3"
  },
  "language_info": {
   "codemirror_mode": {
    "name": "ipython",
    "version": 3
   },
   "file_extension": ".py",
   "mimetype": "text/x-python",
   "name": "python",
   "nbconvert_exporter": "python",
   "pygments_lexer": "ipython3",
   "version": "3.7.6"
  }
 },
 "nbformat": 4,
 "nbformat_minor": 4
}
