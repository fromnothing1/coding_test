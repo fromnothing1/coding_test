{
 "cells": [
  {
   "cell_type": "markdown",
   "metadata": {},
   "source": [
    "# main\n"
   ]
  },
  {
   "cell_type": "markdown",
   "metadata": {},
   "source": [
    "![nn](코테.png)"
   ]
  },
  {
   "cell_type": "code",
   "execution_count": 115,
   "metadata": {},
   "outputs": [
    {
     "data": {
      "text/plain": [
       "'mai lsovke cmodinag'"
      ]
     },
     "execution_count": 115,
     "metadata": {},
     "output_type": "execute_result"
    }
   ],
   "source": [
    "sentence"
   ]
  },
  {
   "cell_type": "code",
   "execution_count": 113,
   "metadata": {},
   "outputs": [],
   "source": [
    "sentence = \"i love coding\"\n",
    "keyword = \"mask\"\n",
    "skips = [0,0,3,2,3,4]\n",
    "skips_len = len(skips)\n",
    "keyword_len = len(keyword)\n",
    "point = 0"
   ]
  },
  {
   "cell_type": "code",
   "execution_count": 110,
   "metadata": {},
   "outputs": [],
   "source": [
    "sentence = \"abcde fghi\"\n",
    "keyword = \"xyz\"\n",
    "skips = [10,0,1]\n",
    "skips_len = len(skips)\n",
    "keyword_len = len(keyword)\n",
    "bool = True\n",
    "point = 0"
   ]
  },
  {
   "cell_type": "code",
   "execution_count": 103,
   "metadata": {},
   "outputs": [],
   "source": [
    "sentence = \"encrypt this sentence\"\n",
    "keyword = \"something\"\n",
    "skips = [0,1,3,2,1,2,0,3,0,2,4,1,3]\n",
    "skips_len = len(skips)\n",
    "keyword_len = len(keyword)\n",
    "bool = True\n",
    "emergency_break = False\n",
    "point = 0"
   ]
  },
  {
   "cell_type": "code",
   "execution_count": 114,
   "metadata": {
    "scrolled": false
   },
   "outputs": [
    {
     "name": "stdout",
     "output_type": "stream",
     "text": [
      "emergency False\n",
      "y 0\n",
      "True\n",
      "안겹침\n",
      "keyword m\n",
      "mi love coding\n",
      "point 1\n",
      "emergency False\n",
      "y 1\n",
      "True\n",
      "안겹침\n",
      "keyword a\n",
      "mai love coding\n",
      "point 2\n",
      "emergency False\n",
      "y 2\n",
      "point 3\n",
      "point 4\n",
      "point 5\n",
      "True\n",
      "안겹침\n",
      "keyword s\n",
      "mai lsove coding\n",
      "point 6\n",
      "emergency False\n",
      "y 3\n",
      "point 7\n",
      "point 8\n",
      "True\n",
      "안겹침\n",
      "keyword k\n",
      "mai lsovke coding\n",
      "point 9\n",
      "emergency False\n",
      "y 4\n",
      "point 10\n",
      "point 11\n",
      "point 12\n",
      "True\n",
      "안겹침\n",
      "keyword m\n",
      "mai lsovke cmoding\n",
      "point 13\n",
      "emergency False\n",
      "y 5\n",
      "point 14\n",
      "point 15\n",
      "point 16\n",
      "point 17\n",
      "True\n",
      "안겹침\n",
      "keyword a\n",
      "mai lsovke cmodinag\n",
      "point 18\n"
     ]
    }
   ],
   "source": [
    "for y in range(skips_len):\n",
    "    print(\"emergency\",emergency_break)\n",
    "    if emergency_break:\n",
    "        break\n",
    "    \n",
    "    if len(sentence) <= point :\n",
    "        \n",
    "        print(\"센텐스 길이 넘음\")\n",
    "        if (skips[y]==0):\n",
    "            sentence = sentence[:point] + keyword[(y)%keyword_len] + sentence[point:]\n",
    "            point +=1\n",
    "            print(\"point\",point)\n",
    "        else:\n",
    "            print(len(sentence))\n",
    "            break\n",
    "    else:\n",
    "        print(\"y\",y)\n",
    "        for x in range(skips[y]):\n",
    "            if len(sentence) <= point :\n",
    "                print(\"센텐스 길이 넘음\")\n",
    "                emergency_break = True\n",
    "                break\n",
    "            \n",
    "            if sentence[point] == keyword[(y)%keyword_len]:\n",
    "                print(\"겹침\")\n",
    "                sentence = sentence[:point] + keyword[(y)%keyword_len] + sentence[point:]\n",
    "                print(\"keyword\",keyword[(y)%keyword_len])\n",
    "                print(sentence)\n",
    "                point +=2\n",
    "                print(\"point\",point)\n",
    "                bool = False\n",
    "                break\n",
    "            point +=1\n",
    "            print(\"point\",point)\n",
    "        print(bool)\n",
    "        if bool and not emergency_break:\n",
    "            print(\"안겹침\")\n",
    "            sentence = sentence[:point] + keyword[(y)%keyword_len] + sentence[point:]\n",
    "            print(\"keyword\",keyword[(y)%keyword_len])\n",
    "            print(sentence)\n",
    "            point +=1\n",
    "            print(\"point\",point)\n",
    "        bool = True\n",
    "            \n",
    "        \n"
   ]
  },
  {
   "cell_type": "code",
   "execution_count": 105,
   "metadata": {},
   "outputs": [
    {
     "data": {
      "text/plain": [
       "'seoncrmypett thihisng ssenteonmcee'"
      ]
     },
     "execution_count": 105,
     "metadata": {},
     "output_type": "execute_result"
    }
   ],
   "source": [
    "sentence"
   ]
  },
  {
   "cell_type": "code",
   "execution_count": 94,
   "metadata": {},
   "outputs": [
    {
     "data": {
      "text/plain": [
       "18"
      ]
     },
     "execution_count": 94,
     "metadata": {},
     "output_type": "execute_result"
    }
   ],
   "source": [
    "point"
   ]
  },
  {
   "cell_type": "code",
   "execution_count": 57,
   "metadata": {},
   "outputs": [],
   "source": [
    "a =\"abc\"\n"
   ]
  },
  {
   "cell_type": "code",
   "execution_count": 58,
   "metadata": {},
   "outputs": [
    {
     "data": {
      "text/plain": [
       "3"
      ]
     },
     "execution_count": 58,
     "metadata": {},
     "output_type": "execute_result"
    }
   ],
   "source": [
    "len(a)"
   ]
  },
  {
   "cell_type": "code",
   "execution_count": 60,
   "metadata": {},
   "outputs": [
    {
     "ename": "IndexError",
     "evalue": "string index out of range",
     "output_type": "error",
     "traceback": [
      "\u001b[1;31m---------------------------------------------------------------------------\u001b[0m",
      "\u001b[1;31mIndexError\u001b[0m                                Traceback (most recent call last)",
      "\u001b[1;32m<ipython-input-60-f75b6be7d8e3>\u001b[0m in \u001b[0;36m<module>\u001b[1;34m\u001b[0m\n\u001b[1;32m----> 1\u001b[1;33m \u001b[0ma\u001b[0m\u001b[1;33m[\u001b[0m\u001b[1;36m3\u001b[0m\u001b[1;33m]\u001b[0m\u001b[1;33m\u001b[0m\u001b[1;33m\u001b[0m\u001b[0m\n\u001b[0m",
      "\u001b[1;31mIndexError\u001b[0m: string index out of range"
     ]
    }
   ],
   "source": [
    "a[3]"
   ]
  },
  {
   "cell_type": "code",
   "execution_count": 105,
   "metadata": {},
   "outputs": [],
   "source": [
    " sentence = sentence[:1] +\"x\"+ sentence[1:]"
   ]
  },
  {
   "cell_type": "code",
   "execution_count": 106,
   "metadata": {},
   "outputs": [
    {
     "data": {
      "text/plain": [
       "'mxaaai lsovke cmodinag'"
      ]
     },
     "execution_count": 106,
     "metadata": {},
     "output_type": "execute_result"
    }
   ],
   "source": [
    "sentence"
   ]
  },
  {
   "cell_type": "code",
   "execution_count": 66,
   "metadata": {},
   "outputs": [
    {
     "data": {
      "text/plain": [
       "'x'"
      ]
     },
     "execution_count": 66,
     "metadata": {},
     "output_type": "execute_result"
    }
   ],
   "source": [
    "keyword[(4)%4]"
   ]
  },
  {
   "cell_type": "code",
   "execution_count": 67,
   "metadata": {},
   "outputs": [
    {
     "data": {
      "text/plain": [
       "2"
      ]
     },
     "execution_count": 67,
     "metadata": {},
     "output_type": "execute_result"
    }
   ],
   "source": [
    "(1+1)%4"
   ]
  },
  {
   "cell_type": "code",
   "execution_count": null,
   "metadata": {},
   "outputs": [],
   "source": []
  }
 ],
 "metadata": {
  "kernelspec": {
   "display_name": "Python 3",
   "language": "python",
   "name": "python3"
  },
  "language_info": {
   "codemirror_mode": {
    "name": "ipython",
    "version": 3
   },
   "file_extension": ".py",
   "mimetype": "text/x-python",
   "name": "python",
   "nbconvert_exporter": "python",
   "pygments_lexer": "ipython3",
   "version": "3.7.6"
  }
 },
 "nbformat": 4,
 "nbformat_minor": 4
}
