{
 "cells": [
  {
   "cell_type": "code",
   "execution_count": 39,
   "metadata": {},
   "outputs": [],
   "source": [
    "test = [[50,90],[50,87]] \n",
    "temp = []\n",
    "max = 0 \n",
    "min = 0\n",
    "a = [1,2]"
   ]
  },
  {
   "cell_type": "code",
   "execution_count": 40,
   "metadata": {},
   "outputs": [],
   "source": [
    "def max_search(list):\n",
    "    n = len(list) #입력 크기 n\n",
    "    maxValue = list[0] #리스트의 첫 번째 값을 최대값으로 초기화\n",
    "    for i in range(1, n): #1부터 n까지 반복 실행\n",
    "        if list[i] > maxValue: #만약 이번 값이 최대값보다 크다면\n",
    "            maxValue = list[i] #최대값을 i번째 값으로 변경\n",
    "    return maxValue"
   ]
  },
  {
   "cell_type": "code",
   "execution_count": 41,
   "metadata": {},
   "outputs": [],
   "source": [
    "def min_search(list):\n",
    "    n = len(list) #입력 크기 n\n",
    "    minValue = list[0] #리스트의 첫 번째 값을 최대값으로 초기화\n",
    "    for i in range(1, n): #1부터 n까지 반복 실행\n",
    "        if list[i] < minValue: #만약 이번 값이 최대값보다 크다면\n",
    "            minValue = list[i] #최대값을 i번째 값으로 변경\n",
    "    return minValue"
   ]
  },
  {
   "cell_type": "code",
   "execution_count": 24,
   "metadata": {},
   "outputs": [
    {
     "data": {
      "text/plain": [
       "68.5"
      ]
     },
     "execution_count": 24,
     "metadata": {},
     "output_type": "execute_result"
    }
   ],
   "source": [
    "sum(test[1])/len(test[1])"
   ]
  },
  {
   "cell_type": "code",
   "execution_count": 9,
   "metadata": {},
   "outputs": [
    {
     "data": {
      "text/plain": [
       "2"
      ]
     },
     "execution_count": 9,
     "metadata": {},
     "output_type": "execute_result"
    }
   ],
   "source": [
    "len(test)"
   ]
  },
  {
   "cell_type": "code",
   "execution_count": 47,
   "metadata": {},
   "outputs": [
    {
     "name": "stdout",
     "output_type": "stream",
     "text": [
      "0\n",
      "90 50\n",
      "1\n",
      "87 50\n"
     ]
    }
   ],
   "source": [
    "for x in range(len(test[x])):\n",
    "    \n",
    "    temp = test[x]\n",
    "    max = max_search(test[x])\n",
    "    min = min_search(test[x])\n",
    "    if test[x][x] == max or test[x][x] = min_search(test[x]):\n",
    "        \n",
    "        \n",
    "        \n",
    "    "
   ]
  },
  {
   "cell_type": "code",
   "execution_count": null,
   "metadata": {},
   "outputs": [],
   "source": []
  },
  {
   "cell_type": "code",
   "execution_count": null,
   "metadata": {},
   "outputs": [],
   "source": []
  },
  {
   "cell_type": "code",
   "execution_count": null,
   "metadata": {},
   "outputs": [],
   "source": []
  }
 ],
 "metadata": {
  "kernelspec": {
   "display_name": "Python 3",
   "language": "python",
   "name": "python3"
  },
  "language_info": {
   "codemirror_mode": {
    "name": "ipython",
    "version": 3
   },
   "file_extension": ".py",
   "mimetype": "text/x-python",
   "name": "python",
   "nbconvert_exporter": "python",
   "pygments_lexer": "ipython3",
   "version": "3.7.6"
  }
 },
 "nbformat": 4,
 "nbformat_minor": 4
}
