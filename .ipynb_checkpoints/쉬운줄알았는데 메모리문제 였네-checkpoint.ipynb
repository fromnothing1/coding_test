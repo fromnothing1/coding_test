{
 "cells": [
  {
   "cell_type": "markdown",
   "metadata": {},
   "source": [
    "https://www.acmicpc.net/problem/1300\n",
    "\n",
    "문제\n",
    "세준이는 크기가 N×N인 배열 A를 만들었다. 배열에 들어있는 수 A[i][j] = i×j 이다. 이 수를 일차원 배열 B에 넣으면 B의 크기는 N×N이 된다. B를 오름차순 정렬했을 때, B[k]를 구해보자.\n",
    "\n",
    "배열 A와 B의 인덱스는 1부터 시작한다.\n",
    "\n",
    "입력\n",
    "첫째 줄에 배열의 크기 N이 주어진다. N은 10^5보다 작거나 같은 자연수이다. 둘째 줄에 k가 주어진다. k는 min(10^9, N2)보다 작거나 같은 자연수이다.\n",
    "\n",
    "출력\n",
    "B[k]를 출력한다."
   ]
  },
  {
   "cell_type": "code",
   "execution_count": 113,
   "metadata": {
    "scrolled": false
   },
   "outputs": [
    {
     "name": "stdout",
     "output_type": "stream",
     "text": [
      "1 2 3 4 \n",
      "2 4 6 8 \n",
      "3 6 9 12 \n",
      "4 8 12 16 \n"
     ]
    },
    {
     "data": {
      "text/plain": [
       "[[1, 2, 3, 4], [2, 4, 6, 8], [3, 6, 9, 12], [4, 8, 12, 16]]"
      ]
     },
     "execution_count": 113,
     "metadata": {},
     "output_type": "execute_result"
    }
   ],
   "source": [
    "\n",
    "def code(n):\n",
    "    b = []\n",
    "    \n",
    "    x = range(1,n+1)\n",
    "    number = 0\n",
    "    for n in x:\n",
    "        b.append([])\n",
    "        for m in x:  \n",
    "            print(m*n, end ='')\n",
    "            print(\" \", end ='')\n",
    "            b[n-1].append(m*n)\n",
    "        print(\"\")\n",
    "    return b\n",
    "\n",
    "code(4)\n",
    "\n",
    "\n"
   ]
  },
  {
   "cell_type": "code",
   "execution_count": 138,
   "metadata": {
    "scrolled": true
   },
   "outputs": [
    {
     "name": "stdout",
     "output_type": "stream",
     "text": [
      "내림차순 k 4\n",
      "int_k : 2\n",
      "주대각 행렬\n"
     ]
    },
    {
     "data": {
      "text/plain": [
       "9"
      ]
     },
     "execution_count": 138,
     "metadata": {},
     "output_type": "execute_result"
    }
   ],
   "source": [
    "\n",
    "import math\n",
    "\n",
    "def code_final(n , k):\n",
    "    \n",
    "    b = []\n",
    "    diff = 0 \n",
    "    \n",
    "    ans = 0        # 정답값 \n",
    "    k = n**2-k+1   # 내림차순으로 변경  몇번 째로 큰 수인지 로 변경\n",
    "    print(\"내림차순 k\" ,k )\n",
    "    root_k = k**0.5 # 루트 씌워줌 \n",
    "    int_k = math.floor(root_k) # 정수 부분만 추출 \n",
    "    print(\"int_k :\",int_k)\n",
    "    \n",
    "    if root_k == int_k:\n",
    "        print(\"주대각 행렬\")\n",
    "        ans = (n-int_k+1)**2\n",
    "    else:\n",
    "        \n",
    "        diff = k - int_k**2\n",
    "        diff = math.ceil(diff/2)\n",
    "        ans = (n - int_k)*(n-diff+1)\n",
    "    \n",
    "    \n",
    "    return ans\n",
    "\n",
    "\n",
    "x,y =int(input()),int(input())\n",
    "    \n",
    "code_final(x,y)\n"
   ]
  },
  {
   "cell_type": "code",
   "execution_count": 91,
   "metadata": {},
   "outputs": [
    {
     "name": "stdout",
     "output_type": "stream",
     "text": [
      "10\n",
      "8\n",
      "6\n"
     ]
    }
   ],
   "source": [
    "n =5\n",
    "int_k = 3\n",
    "\n",
    "for x in range(n,n -int_k,-1):\n",
    "    print(x*(n - int_k) )\n",
    "  "
   ]
  },
  {
   "cell_type": "code",
   "execution_count": 71,
   "metadata": {},
   "outputs": [
    {
     "data": {
      "text/plain": [
       "8"
      ]
     },
     "execution_count": 71,
     "metadata": {},
     "output_type": "execute_result"
    }
   ],
   "source": [
    "diff =3\n",
    "n =4\n",
    "int_k = 3\n",
    "k=6\n",
    "\n",
    "diff = k - int_k**2\n",
    "diff = math.ceil(diff/2)\n",
    "ans = (n -int_k+1)*(n-diff-1)\n",
    "\n",
    "ans"
   ]
  },
  {
   "cell_type": "code",
   "execution_count": 126,
   "metadata": {},
   "outputs": [
    {
     "data": {
      "text/plain": [
       "([1, 2, 2, 3, 3, 4, 4, 4, 6, 6, 8, 8, 9, 12, 12, 16], 4)"
      ]
     },
     "execution_count": 126,
     "metadata": {},
     "output_type": "execute_result"
    }
   ],
   "source": [
    "def code(n ,k):\n",
    "    b = []\n",
    "    \n",
    "    x = range(1,n+1)\n",
    "    number = 0\n",
    "    for n in x:\n",
    "        \n",
    "        for m in x:  \n",
    "            b.append(m*n)\n",
    "            b.sort()\n",
    "        \n",
    "    return b, b[k-1]\n",
    "\n",
    "code(4,8)\n"
   ]
  },
  {
   "cell_type": "code",
   "execution_count": 39,
   "metadata": {},
   "outputs": [
    {
     "name": "stdout",
     "output_type": "stream",
     "text": [
      "1\n",
      "2\n"
     ]
    },
    {
     "data": {
      "text/plain": [
       "(2, [2, 2])"
      ]
     },
     "execution_count": 39,
     "metadata": {},
     "output_type": "execute_result"
    }
   ],
   "source": [
    "def code(n , k):\n",
    "    \n",
    "    b = []\n",
    "    count = 0\n",
    "    x = range(1,n+1)\n",
    "   \n",
    "    \n",
    "    if (k <= (n**2+n)/2):\n",
    "        \n",
    "        for i in x:\n",
    "            pre_count = count\n",
    "            count += i\n",
    "            \n",
    "            if (count >= k):\n",
    "                for j in range(1,i+1):\n",
    "                    print(j)\n",
    "                    b.append(j*(i+1-j))\n",
    "                \n",
    "                break\n",
    "                \n",
    "    b.sort()            \n",
    "    diff = k-pre_count-1\n",
    "    ans = b[diff]\n",
    "    \n",
    "    return  ans , b\n",
    "\n",
    "        \n",
    "\n",
    "code(5 ,3)\n"
   ]
  },
  {
   "cell_type": "code",
   "execution_count": null,
   "metadata": {},
   "outputs": [],
   "source": []
  },
  {
   "cell_type": "code",
   "execution_count": null,
   "metadata": {},
   "outputs": [],
   "source": []
  }
 ],
 "metadata": {
  "kernelspec": {
   "display_name": "Python 3",
   "language": "python",
   "name": "python3"
  },
  "language_info": {
   "codemirror_mode": {
    "name": "ipython",
    "version": 3
   },
   "file_extension": ".py",
   "mimetype": "text/x-python",
   "name": "python",
   "nbconvert_exporter": "python",
   "pygments_lexer": "ipython3",
   "version": "3.7.6"
  }
 },
 "nbformat": 4,
 "nbformat_minor": 4
}
