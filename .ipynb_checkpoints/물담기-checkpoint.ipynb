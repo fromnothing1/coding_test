{
 "cells": [
  {
   "cell_type": "markdown",
   "metadata": {},
   "source": [
    "https://leetcode.com/problems/trapping-rain-water/\n",
    "\n",
    "Given n non-negative integers representing an elevation map where the width of each bar is 1, compute how much water it can trap after raining.\n",
    "\n",
    "Example 1:\n",
    "\n",
    "Input: height = [0,1,0,2,1,0,1,3,2,1,2,1]\n",
    "Output: 6\n",
    "Explanation: The above elevation map (black section) is represented by array [0,1,0,2,1,0,1,3,2,1,2,1]. In this case, 6 units of rain water (blue section) are being trapped.\n",
    "Example 2:\n",
    "\n",
    "Input: height = [4,2,0,3,2,5]\n",
    "Output: 9\n",
    " \n",
    "\n",
    "Constraints:\n",
    "\n",
    "n == height.length\n",
    "0 <= n <= 3 * 10**4\n",
    "0 <= height[i] <= 10**5"
   ]
  },
  {
   "cell_type": "markdown",
   "metadata": {},
   "source": [
    "## 이거 너무 비효율적이라서 runtime error 남 for 한번만 써야할듯 ;;"
   ]
  },
  {
   "cell_type": "code",
   "execution_count": 142,
   "metadata": {},
   "outputs": [],
   "source": [
    "def max_search(list):\n",
    "    n = len(list) #입력 크기 n\n",
    "    maxValue = list[0] #리스트의 첫 번째 값을 최대값으로 초기화\n",
    "    for i in range(1, n): #1부터 n까지 반복 실행\n",
    "        if list[i] > maxValue: #만약 이번 값이 최대값보다 크다면\n",
    "            maxValue = list[i] #최대값을 i번째 값으로 변경\n",
    "    return maxValue\n"
   ]
  },
  {
   "cell_type": "code",
   "execution_count": 146,
   "metadata": {},
   "outputs": [],
   "source": [
    "test =  [0,1,0,2,1,0,1,3,2,1,2,1] \n",
    "\n",
    "array_with = len(test)\n",
    "height = max_search(test)\n",
    "water_jar = 0\n",
    "start = 0\n",
    "end = 0"
   ]
  },
  {
   "cell_type": "code",
   "execution_count": 147,
   "metadata": {},
   "outputs": [
    {
     "name": "stdout",
     "output_type": "stream",
     "text": [
      "6\n"
     ]
    }
   ],
   "source": [
    "for x in range(1,height+1):  # x 는 높이 계속해서 반환 \n",
    "    #print(\"x :\" ,end = \"\")\n",
    "    #print(x)\n",
    "\n",
    "    for y in range(array_with):\n",
    "\n",
    "        if test[y] >= x :\n",
    "            #print(y)\n",
    "            if start == 0:\n",
    "                start = y+1\n",
    "                end = y+1\n",
    "            else:\n",
    "                end = y+1\n",
    "                water_jar += (end - (start+1))\n",
    "                #print(\"water_jar :\", end = \"\")\n",
    "                #print(water_jar)\n",
    "                start = end \n",
    "                \n",
    "    start = 0\n",
    "    end = 0\n",
    "\n",
    "    \n",
    "         \n",
    "print(water_jar)"
   ]
  },
  {
   "cell_type": "markdown",
   "metadata": {},
   "source": [
    "# for loop 1번만\n"
   ]
  },
  {
   "cell_type": "code",
   "execution_count": null,
   "metadata": {},
   "outputs": [],
   "source": [
    "def max_location(list):\n",
    "    n = len(list) #입력 크기 n\n",
    "    maxValue = list[0] #리스트의 첫 번째 값을 최대값으로 초기화\n",
    "    for i in range(1, n): #1부터 n까지 반복 실행\n",
    "        if list[i] > maxValue: #만약 이번 값이 최대값보다 크다면\n",
    "            maxValue = list[i] #최대값을 i번째 값으로 변경\n",
    "    return maxValue\n"
   ]
  },
  {
   "cell_type": "code",
   "execution_count": null,
   "metadata": {},
   "outputs": [],
   "source": [
    "test =  [0,1,0,2,1,0,1,3,2,1,2,1] \n",
    "\n",
    "array_with = len(test)\n",
    "height = max_search(test)\n",
    "water_jar = 0\n",
    "start = 0\n",
    "end = 0"
   ]
  },
  {
   "cell_type": "code",
   "execution_count": null,
   "metadata": {},
   "outputs": [],
   "source": []
  },
  {
   "cell_type": "code",
   "execution_count": null,
   "metadata": {},
   "outputs": [],
   "source": []
  },
  {
   "cell_type": "code",
   "execution_count": null,
   "metadata": {},
   "outputs": [],
   "source": []
  },
  {
   "cell_type": "code",
   "execution_count": null,
   "metadata": {},
   "outputs": [],
   "source": []
  },
  {
   "cell_type": "code",
   "execution_count": null,
   "metadata": {},
   "outputs": [],
   "source": []
  }
 ],
 "metadata": {
  "kernelspec": {
   "display_name": "Python 3",
   "language": "python",
   "name": "python3"
  },
  "language_info": {
   "codemirror_mode": {
    "name": "ipython",
    "version": 3
   },
   "file_extension": ".py",
   "mimetype": "text/x-python",
   "name": "python",
   "nbconvert_exporter": "python",
   "pygments_lexer": "ipython3",
   "version": "3.7.6"
  }
 },
 "nbformat": 4,
 "nbformat_minor": 4
}
