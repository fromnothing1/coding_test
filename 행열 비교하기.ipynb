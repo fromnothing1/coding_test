{
 "cells": [
  {
   "cell_type": "markdown",
   "metadata": {},
   "source": [
    "Given an array of strings strs, group the anagrams together. You can return the answer in any order.\n",
    "\n",
    "An Anagram is a word or phrase formed by rearranging the letters of a different word or phrase, typically using all the original letters exactly once.\n",
    "\n",
    " \n",
    "\n",
    "Example 1:\n",
    "\n",
    "Input: strs = [\"eat\",\"tea\",\"tan\",\"ate\",\"nat\",\"bat\"]\n",
    "Output: [[\"bat\"],[\"nat\",\"tan\"],[\"ate\",\"eat\",\"tea\"]]\n",
    "\n",
    "Example 2:\n",
    "\n",
    "Input: strs = [\"\"]\n",
    "Output: [[\"\"]]\n",
    "\n",
    "Example 3:\n",
    "\n",
    "Input: strs = [\"a\"]\n",
    "Output: [[\"a\"]]\n",
    " \n",
    "\n",
    "Constraints:\n",
    "\n",
    "1 <= strs.length <= 10**4\n",
    "0 <= strs[i].length <= 100\n",
    "strs[i] consists of lower-case English letters."
   ]
  },
  {
   "cell_type": "code",
   "execution_count": 48,
   "metadata": {},
   "outputs": [],
   "source": [
    "test =  [\"eat\",\"tea\",\"tan\",\"ate\",\"nat\",\"bat\"] \n",
    "test_len = len(test)\n",
    "temp_list = []\n",
    "ans_list = []\n"
   ]
  },
  {
   "cell_type": "code",
   "execution_count": 49,
   "metadata": {},
   "outputs": [
    {
     "data": {
      "text/plain": [
       "True"
      ]
     },
     "execution_count": 49,
     "metadata": {},
     "output_type": "execute_result"
    }
   ],
   "source": [
    "temp_list == []"
   ]
  },
  {
   "cell_type": "code",
   "execution_count": 50,
   "metadata": {},
   "outputs": [
    {
     "name": "stdout",
     "output_type": "stream",
     "text": [
      "00\n",
      "['t', 'e', 'a']\n",
      "01\n",
      "['t', 'e', 'a']\n",
      "ok\n",
      "10\n",
      "['t', 'a']\n",
      "11\n",
      "['t', 'a']\n",
      "ok\n",
      "20\n",
      "['t']\n",
      "ok\n",
      "00\n",
      "['a', 't', 'e']\n",
      "01\n",
      "['a', 't', 'e']\n",
      "02\n",
      "['a', 't', 'e']\n",
      "ok\n",
      "10\n",
      "['a', 't']\n",
      "ok\n",
      "20\n",
      "['t']\n",
      "ok\n",
      "00\n",
      "['b', 'a', 't']\n",
      "01\n",
      "['b', 'a', 't']\n",
      "02\n",
      "['b', 'a', 't']\n",
      "10\n",
      "['b', 'a', 't']\n",
      "11\n",
      "['b', 'a', 't']\n",
      "ok\n",
      "20\n",
      "['b', 't']\n",
      "21\n",
      "['b', 't']\n",
      "ok\n"
     ]
    },
    {
     "ename": "IndexError",
     "evalue": "list index out of range",
     "output_type": "error",
     "traceback": [
      "\u001b[1;31m---------------------------------------------------------------------------\u001b[0m",
      "\u001b[1;31mIndexError\u001b[0m                                Traceback (most recent call last)",
      "\u001b[1;32m<ipython-input-50-cfe8b1bc179c>\u001b[0m in \u001b[0;36m<module>\u001b[1;34m\u001b[0m\n\u001b[0;32m      4\u001b[0m         \u001b[0mtemp_list\u001b[0m\u001b[1;33m.\u001b[0m\u001b[0mappend\u001b[0m\u001b[1;33m(\u001b[0m\u001b[0mtest\u001b[0m\u001b[1;33m[\u001b[0m\u001b[0mi\u001b[0m\u001b[1;33m]\u001b[0m\u001b[1;33m)\u001b[0m\u001b[1;33m\u001b[0m\u001b[1;33m\u001b[0m\u001b[0m\n\u001b[0;32m      5\u001b[0m \u001b[1;33m\u001b[0m\u001b[0m\n\u001b[1;32m----> 6\u001b[1;33m         \u001b[1;32mif\u001b[0m \u001b[0mlen\u001b[0m\u001b[1;33m(\u001b[0m\u001b[0mtest\u001b[0m\u001b[1;33m[\u001b[0m\u001b[0mi\u001b[0m\u001b[1;33m]\u001b[0m\u001b[1;33m)\u001b[0m \u001b[1;33m==\u001b[0m \u001b[0mlen\u001b[0m\u001b[1;33m(\u001b[0m\u001b[0mtest\u001b[0m\u001b[1;33m[\u001b[0m\u001b[0mj\u001b[0m\u001b[1;33m]\u001b[0m\u001b[1;33m)\u001b[0m\u001b[1;33m:\u001b[0m\u001b[1;33m\u001b[0m\u001b[1;33m\u001b[0m\u001b[0m\n\u001b[0m\u001b[0;32m      7\u001b[0m \u001b[1;33m\u001b[0m\u001b[0m\n\u001b[0;32m      8\u001b[0m             \u001b[0mtemp_a\u001b[0m \u001b[1;33m=\u001b[0m \u001b[0mlist\u001b[0m\u001b[1;33m(\u001b[0m\u001b[0mtest\u001b[0m\u001b[1;33m[\u001b[0m\u001b[0mi\u001b[0m\u001b[1;33m]\u001b[0m\u001b[1;33m)\u001b[0m\u001b[1;33m\u001b[0m\u001b[1;33m\u001b[0m\u001b[0m\n",
      "\u001b[1;31mIndexError\u001b[0m: list index out of range"
     ]
    }
   ],
   "source": [
    "\n",
    "for i in range(test_len):\n",
    "    for j in range(i+1,test_len):\n",
    "        \n",
    "        temp_list.append(test[i])\n",
    "        \n",
    "        if len(test[i]) == len(test[j]):\n",
    "            temp_a = list(test[i])\n",
    "            temp_b = list(test[j])\n",
    "            number = len(test[i])\n",
    "            # 두 요소가 같은지 확인 \n",
    "\n",
    "            for k in range(number):\n",
    "                for l in range(len(temp_a)):\n",
    "                    print(k,end =\"\")\n",
    "                    print(l)\n",
    "                    print(temp_b)\n",
    "                    if temp_a[k] == temp_b[l]:\n",
    "                        print(\"ok\")\n",
    "                        del(temp_b[l])\n",
    "                        break\n",
    "            if temp_b == []:\n",
    "                temp_list.append(test[j])\n",
    "                del(test[j])\n",
    "                  \n",
    "    ans_list.append(temp_list)\n",
    "    temp_list = []\n",
    "            \n",
    "    \n",
    "            \n",
    "         \n",
    "ans_list   \n",
    "        \n",
    "        \n",
    "\n",
    "            \n",
    "#             print(test[i], end = \"\") \n",
    "#             print(test[j])\n",
    "    \n",
    "\n",
    "                \n",
    "    \n",
    "\n",
    "\n"
   ]
  },
  {
   "cell_type": "code",
   "execution_count": 44,
   "metadata": {
    "scrolled": true
   },
   "outputs": [
    {
     "name": "stdout",
     "output_type": "stream",
     "text": [
      "00\n",
      "['c', 'b', 'a']\n",
      "01\n",
      "['c', 'b', 'a']\n",
      "02\n",
      "['c', 'b', 'a']\n",
      "ok\n",
      "10\n",
      "['c', 'b']\n",
      "11\n",
      "['c', 'b']\n",
      "ok\n",
      "20\n",
      "['c']\n",
      "ok\n"
     ]
    }
   ],
   "source": [
    "a = \"abc\"\n",
    "b = \"cba\"\n",
    "c = \"abd\"\n",
    "count = 0\n",
    "temp_a = list(a)\n",
    "temp_b = list(b)\n",
    "number = len(temp_a)\n",
    "\n",
    "for k in range(number):\n",
    "    for l in range(len(temp_a)):\n",
    "        print(k,end =\"\")\n",
    "        print(l)\n",
    "        print(temp_b)\n",
    "        if temp_a[k] == temp_b[l]:\n",
    "            print(\"ok\")\n",
    "            del(temp_b[l])\n",
    "            break"
   ]
  },
  {
   "cell_type": "code",
   "execution_count": 41,
   "metadata": {},
   "outputs": [
    {
     "data": {
      "text/plain": [
       "['b']"
      ]
     },
     "execution_count": 41,
     "metadata": {},
     "output_type": "execute_result"
    }
   ],
   "source": [
    "temp_b"
   ]
  }
 ],
 "metadata": {
  "kernelspec": {
   "display_name": "Python 3",
   "language": "python",
   "name": "python3"
  },
  "language_info": {
   "codemirror_mode": {
    "name": "ipython",
    "version": 3
   },
   "file_extension": ".py",
   "mimetype": "text/x-python",
   "name": "python",
   "nbconvert_exporter": "python",
   "pygments_lexer": "ipython3",
   "version": "3.7.6"
  }
 },
 "nbformat": 4,
 "nbformat_minor": 4
}
